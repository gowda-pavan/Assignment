{
 "cells": [
  {
   "cell_type": "code",
   "execution_count": 1,
   "metadata": {},
   "outputs": [
    {
     "name": "stdout",
     "output_type": "stream",
     "text": [
      "enter x value 2\n",
      "enter y value 2\n",
      "4\n"
     ]
    }
   ],
   "source": [
    "x=int(input(\"enter x value \"))\n",
    "y=int(input(\"enter y value \"))\n",
    "print(x**y)"
   ]
  },
  {
   "cell_type": "code",
   "execution_count": 6,
   "metadata": {},
   "outputs": [
    {
     "name": "stdout",
     "output_type": "stream",
     "text": [
      "enter x value 2\n",
      "enter y value 2\n",
      "4.0\n"
     ]
    }
   ],
   "source": [
    "import math\n",
    "x=int(input(\"enter x value \"))\n",
    "y=int(input(\"enter y value \"))\n",
    "print(math.pow(x,y))"
   ]
  }
 ],
 "metadata": {
  "kernelspec": {
   "display_name": "Python 3",
   "language": "python",
   "name": "python3"
  },
  "language_info": {
   "codemirror_mode": {
    "name": "ipython",
    "version": 3
   },
   "file_extension": ".py",
   "mimetype": "text/x-python",
   "name": "python",
   "nbconvert_exporter": "python",
   "pygments_lexer": "ipython3",
   "version": "3.7.4"
  }
 },
 "nbformat": 4,
 "nbformat_minor": 2
}
