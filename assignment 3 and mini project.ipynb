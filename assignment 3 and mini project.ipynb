{
 "cells": [
  {
   "cell_type": "markdown",
   "metadata": {},
   "source": [
    "# Assignment 3"
   ]
  },
  {
   "cell_type": "code",
   "execution_count": 2,
   "metadata": {},
   "outputs": [
    {
     "name": "stdout",
     "output_type": "stream",
     "text": [
      "Enter first no 2\n",
      "Enter second no 4\n",
      "2.0\n"
     ]
    }
   ],
   "source": [
    "def mod_div(num,deno):\n",
    "    if(deno>num):\n",
    "        num,deno=deno,num\n",
    "    else:\n",
    "         num,deno=num,deno\n",
    "    return num/deno\n",
    "num1=float(input(\"Enter first no \"))\n",
    "num2=float(input(\"Enter second no \"))\n",
    "main=mod_div(num1,num2)\n",
    "print(main)"
   ]
  },
  {
   "cell_type": "markdown",
   "metadata": {},
   "source": [
    "# project"
   ]
  },
  {
   "cell_type": "code",
   "execution_count": 3,
   "metadata": {},
   "outputs": [
    {
     "name": "stdout",
     "output_type": "stream",
     "text": [
      "OTP is vmiyoS\n"
     ]
    }
   ],
   "source": [
    "import random\n",
    "import string\n",
    "length=6\n",
    "otp=\"\"\n",
    "character=string.ascii_letters+string.digits\n",
    "for i in range(length):\n",
    "    otp=otp+random.choice(character)\n",
    "print(\"OTP is\",otp)"
   ]
  }
 ],
 "metadata": {
  "kernelspec": {
   "display_name": "Python 3",
   "language": "python",
   "name": "python3"
  },
  "language_info": {
   "codemirror_mode": {
    "name": "ipython",
    "version": 3
   },
   "file_extension": ".py",
   "mimetype": "text/x-python",
   "name": "python",
   "nbconvert_exporter": "python",
   "pygments_lexer": "ipython3",
   "version": "3.7.4"
  }
 },
 "nbformat": 4,
 "nbformat_minor": 2
}
