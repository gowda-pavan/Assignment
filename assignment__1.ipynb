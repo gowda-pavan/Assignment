{
 "cells": [
  {
   "cell_type": "code",
   "execution_count": 6,
   "metadata": {},
   "outputs": [
    {
     "name": "stdout",
     "output_type": "stream",
     "text": [
      "enter x value 2\n",
      "enter y value 3\n",
      "The power is 8\n"
     ]
    }
   ],
   "source": [
    "x=int(input(\"enter x value \"))\n",
    "y=int(input(\"enter y value \"))\n",
    "print(\"The power is \",end=\"\")\n",
    "print(x**y)"
   ]
  },
  {
   "cell_type": "code",
   "execution_count": 7,
   "metadata": {},
   "outputs": [
    {
     "name": "stdout",
     "output_type": "stream",
     "text": [
      "enter x value 2\n",
      "enter y value 5\n",
      "The power is 32.0\n"
     ]
    }
   ],
   "source": [
    "import math\n",
    "x=int(input(\"enter x value \"))\n",
    "y=int(input(\"enter y value \"))\n",
    "print(\"The power is \",end=\"\")\n",
    "print(math.pow(x,y))"
   ]
  }
 ],
 "metadata": {
  "kernelspec": {
   "display_name": "Python 3",
   "language": "python",
   "name": "python3"
  }
 },
 "nbformat": 4,
 "nbformat_minor": 2
}
